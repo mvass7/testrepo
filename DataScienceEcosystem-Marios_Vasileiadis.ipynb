{
 "cells": [
  {
   "cell_type": "markdown",
   "id": "df755a08-d596-4e73-8fa8-c2a4f9bb2c59",
   "metadata": {
    "tags": []
   },
   "source": [
    "# Data Science Tools and Ecosystem"
   ]
  },
  {
   "cell_type": "markdown",
   "id": "5e5e182a-28e3-41d5-8ded-6f25a337932b",
   "metadata": {},
   "source": [
    "In this notebook, Data Science Tools and Ecosystem are summarized."
   ]
  },
  {
   "cell_type": "markdown",
   "id": "dfb40dc8-4ddf-421a-96af-923d581d8c7d",
   "metadata": {},
   "source": [
    "**Objectives**:\n",
    "* List popular languages for Data Science\n",
    "* List commonly used libraries used by Data Scientists\n",
    "* List open source tools for Data Science"
   ]
  },
  {
   "cell_type": "markdown",
   "id": "5c559db8-6880-482a-83d8-b0e61bebea39",
   "metadata": {},
   "source": [
    "Some of the popular languages that Data Scientists use are:\n",
    "1. Python\n",
    "2. R\n",
    "3. SQL"
   ]
  },
  {
   "cell_type": "markdown",
   "id": "1e2169b7-25b1-4f2c-b4d8-e60a0f36e3b6",
   "metadata": {},
   "source": [
    "Some of the commonly used libraries used by Data Scientists include:\n",
    "1. Pandas\n",
    "2. Matplotlib\n",
    "3. Sckit-learn\n",
    "4. Seaborn\n",
    "5. ggplot\n",
    "6. pytorch"
   ]
  },
  {
   "cell_type": "markdown",
   "id": "8061b05a-4a4a-4959-9ee4-ab017c498728",
   "metadata": {},
   "source": [
    "| Data Science Tools      |\n",
    "| :---        |\n",
    "| PostgreSQL      |\n",
    "| Apache AriFlow   |\n",
    "| TensorFlow service   |"
   ]
  },
  {
   "cell_type": "markdown",
   "id": "42ccdbe2-241c-4e60-b0de-77746e766ca9",
   "metadata": {},
   "source": [
    "### Below are a few examples of evaluating arithmetic expressions in Python"
   ]
  },
  {
   "cell_type": "code",
   "execution_count": 2,
   "id": "b2fdbc83-e3b1-40df-8924-b871ea6d9b15",
   "metadata": {},
   "outputs": [
    {
     "data": {
      "text/plain": [
       "17"
      ]
     },
     "execution_count": 2,
     "metadata": {},
     "output_type": "execute_result"
    }
   ],
   "source": [
    "# This a simple arithmetic expression to mutiply then add integers\n",
    "(3*4)+5"
   ]
  },
  {
   "cell_type": "code",
   "execution_count": 3,
   "id": "91414db1-7ed6-4bca-8aca-259d001f1fb1",
   "metadata": {},
   "outputs": [
    {
     "data": {
      "text/plain": [
       "3.3333333333333335"
      ]
     },
     "execution_count": 3,
     "metadata": {},
     "output_type": "execute_result"
    }
   ],
   "source": [
    "# This will convert 200 minutes to hours by dividing by 60\n",
    "200/60"
   ]
  },
  {
   "cell_type": "markdown",
   "id": "a13e6b2f-ee1f-4b59-86df-1729ce9752b5",
   "metadata": {},
   "source": [
    "## Author\n",
    "Marios Vasileiadis"
   ]
  },
  {
   "cell_type": "code",
   "execution_count": null,
   "id": "13848575-8077-4325-a0a1-749e491b6814",
   "metadata": {},
   "outputs": [],
   "source": []
  }
 ],
 "metadata": {
  "kernelspec": {
   "display_name": "Python",
   "language": "python",
   "name": "conda-env-python-py"
  },
  "language_info": {
   "codemirror_mode": {
    "name": "ipython",
    "version": 3
   },
   "file_extension": ".py",
   "mimetype": "text/x-python",
   "name": "python",
   "nbconvert_exporter": "python",
   "pygments_lexer": "ipython3",
   "version": "3.7.12"
  }
 },
 "nbformat": 4,
 "nbformat_minor": 5
}
